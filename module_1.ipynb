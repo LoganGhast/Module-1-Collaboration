{
 "cells": [
  {
   "cell_type": "code",
   "execution_count": 3,
   "id": "891512ca-0797-473f-b755-bfd988eb9dd4",
   "metadata": {},
   "outputs": [
    {
     "name": "stdout",
     "output_type": "stream",
     "text": [
      "3600\n"
     ]
    }
   ],
   "source": [
    "minutes = 60\n",
    "hour = 60\n",
    "seconds_per_hour = minutes * hour\n",
    "print(seconds_per_hour)"
   ]
  },
  {
   "cell_type": "code",
   "execution_count": 5,
   "id": "fafe9276-2d57-4361-99be-927f450bde99",
   "metadata": {},
   "outputs": [
    {
     "name": "stdout",
     "output_type": "stream",
     "text": [
      "86400\n"
     ]
    }
   ],
   "source": [
    "seconds_per_day = seconds_per_hour * 24\n",
    "print(seconds_per_day)"
   ]
  },
  {
   "cell_type": "code",
   "execution_count": 7,
   "id": "6974e966-c02f-4ab3-a48c-e1d7923e9c54",
   "metadata": {},
   "outputs": [
    {
     "name": "stdout",
     "output_type": "stream",
     "text": [
      "24.0\n"
     ]
    }
   ],
   "source": [
    "float_days = seconds_per_day/seconds_per_hour\n",
    "print(float_days)"
   ]
  },
  {
   "cell_type": "code",
   "execution_count": 9,
   "id": "e2e50937-6887-4cf6-8c3d-2d2bb62a5e69",
   "metadata": {},
   "outputs": [
    {
     "name": "stdout",
     "output_type": "stream",
     "text": [
      "24\n"
     ]
    }
   ],
   "source": [
    "integer_days = seconds_per_day//seconds_per_hour\n",
    "print(integer_days)"
   ]
  },
  {
   "cell_type": "code",
   "execution_count": 11,
   "id": "4cb89878-1de5-4d6b-8655-9a62eab9b243",
   "metadata": {},
   "outputs": [
    {
     "data": {
      "text/plain": [
       "True"
      ]
     },
     "execution_count": 11,
     "metadata": {},
     "output_type": "execute_result"
    }
   ],
   "source": [
    "integer_days == float_days"
   ]
  },
  {
   "cell_type": "code",
   "execution_count": null,
   "id": "6539a654-4308-4d6d-88ba-b2166ba09617",
   "metadata": {},
   "outputs": [],
   "source": []
  }
 ],
 "metadata": {
  "kernelspec": {
   "display_name": "Python 3 (ipykernel)",
   "language": "python",
   "name": "python3"
  },
  "language_info": {
   "codemirror_mode": {
    "name": "ipython",
    "version": 3
   },
   "file_extension": ".py",
   "mimetype": "text/x-python",
   "name": "python",
   "nbconvert_exporter": "python",
   "pygments_lexer": "ipython3",
   "version": "3.12.4"
  }
 },
 "nbformat": 4,
 "nbformat_minor": 5
}
